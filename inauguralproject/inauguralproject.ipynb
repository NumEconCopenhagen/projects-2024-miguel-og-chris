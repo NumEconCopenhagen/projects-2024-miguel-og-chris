{
 "cells": [
  {
   "cell_type": "markdown",
   "metadata": {},
   "source": [
    "# Inaugural Project"
   ]
  },
  {
   "attachments": {},
   "cell_type": "markdown",
   "metadata": {},
   "source": [
    "> **Note the following:** \n",
    "> 1. This is an example of how to structure your **inaugural project**.\n",
    "> 1. Remember the general advice on structuring and commenting your code\n",
    "> 1. The `inauguralproject.py` file includes a function which can be used multiple times in this notebook."
   ]
  },
  {
   "cell_type": "markdown",
   "metadata": {},
   "source": [
    "Imports and set magics:"
   ]
  },
  {
   "cell_type": "code",
   "execution_count": 38,
   "metadata": {},
   "outputs": [
    {
     "name": "stdout",
     "output_type": "stream",
     "text": [
      "The autoreload extension is already loaded. To reload it, use:\n",
      "  %reload_ext autoreload\n"
     ]
    }
   ],
   "source": [
    "import numpy as np\n",
    "\n",
    "# autoreload modules when code is run. Otherwise, python will not see recent changes. \n",
    "%load_ext autoreload\n",
    "%autoreload 2\n",
    "\n",
    "# Import your own code\n",
    "import inauguralproject\n",
    "from inauguralproject import ExchangeEconomyClass"
   ]
  },
  {
   "cell_type": "markdown",
   "metadata": {},
   "source": [
    "# Question 1"
   ]
  },
  {
   "cell_type": "markdown",
   "metadata": {},
   "source": [
    "**Explain how you solve the model**"
   ]
  },
  {
   "cell_type": "code",
   "execution_count": 43,
   "metadata": {},
   "outputs": [
    {
     "name": "stdout",
     "output_type": "stream",
     "text": [
      "[0.         0.01351351 0.02702703 0.04054054 0.05405405 0.06756757\n",
      " 0.08108108 0.09459459 0.10810811 0.12162162 0.13513514 0.14864865\n",
      " 0.16216216 0.17567568 0.18918919 0.2027027  0.21621622 0.22972973\n",
      " 0.24324324 0.25675676 0.27027027 0.28378378 0.2972973  0.31081081\n",
      " 0.32432432 0.33783784 0.35135135 0.36486486 0.37837838 0.39189189\n",
      " 0.40540541 0.41891892 0.43243243 0.44594595 0.45945946 0.47297297\n",
      " 0.48648649 0.5        0.51351351 0.52702703 0.54054054 0.55405405\n",
      " 0.56756757 0.58108108 0.59459459 0.60810811 0.62162162 0.63513514\n",
      " 0.64864865 0.66216216 0.67567568 0.68918919 0.7027027  0.71621622\n",
      " 0.72972973 0.74324324 0.75675676 0.77027027 0.78378378 0.7972973\n",
      " 0.81081081 0.82432432 0.83783784 0.85135135 0.86486486 0.87837838\n",
      " 0.89189189 0.90540541 0.91891892 0.93243243 0.94594595 0.95945946\n",
      " 0.97297297 0.98648649 1.        ]\n",
      "[1.         0.98648649 0.97297297 0.95945946 0.94594595 0.93243243\n",
      " 0.91891892 0.90540541 0.89189189 0.87837838 0.86486486 0.85135135\n",
      " 0.83783784 0.82432432 0.81081081 0.7972973  0.78378378 0.77027027\n",
      " 0.75675676 0.74324324 0.72972973 0.71621622 0.7027027  0.68918919\n",
      " 0.67567568 0.66216216 0.64864865 0.63513514 0.62162162 0.60810811\n",
      " 0.59459459 0.58108108 0.56756757 0.55405405 0.54054054 0.52702703\n",
      " 0.51351351 0.5        0.48648649 0.47297297 0.45945946 0.44594595\n",
      " 0.43243243 0.41891892 0.40540541 0.39189189 0.37837838 0.36486486\n",
      " 0.35135135 0.33783784 0.32432432 0.31081081 0.2972973  0.28378378\n",
      " 0.27027027 0.25675676 0.24324324 0.22972973 0.21621622 0.2027027\n",
      " 0.18918919 0.17567568 0.16216216 0.14864865 0.13513514 0.12162162\n",
      " 0.10810811 0.09459459 0.08108108 0.06756757 0.05405405 0.04054054\n",
      " 0.02702703 0.01351351 0.        ]\n"
     ]
    }
   ],
   "source": [
    "# code for solving the model (remember documentation and comments)\n",
    "\n",
    "N = 75\n",
    "x1_vec = np.linspace(0,1,N)\n",
    "x2_vec = 1 - x1_vec\n",
    "\n",
    "print(x1_vec)\n",
    "print(x2_vec)\n",
    "\n",
    "\n",
    "\n"
   ]
  },
  {
   "cell_type": "markdown",
   "metadata": {},
   "source": [
    "# Question 2"
   ]
  },
  {
   "cell_type": "markdown",
   "metadata": {},
   "source": [
    "Explain your code and procedure"
   ]
  },
  {
   "cell_type": "code",
   "execution_count": 34,
   "metadata": {},
   "outputs": [
    {
     "name": "stdout",
     "output_type": "stream",
     "text": [
      "[0.31666666666666665, 1.2666666666666668]\n"
     ]
    }
   ],
   "source": [
    "EEC = ExchangeEconomyClass()\n",
    "print(EEC.demand_A(2))\n",
    "\n",
    "\n",
    "\n"
   ]
  },
  {
   "cell_type": "markdown",
   "metadata": {},
   "source": [
    "# Question 3"
   ]
  },
  {
   "cell_type": "markdown",
   "metadata": {},
   "source": [
    "Explain your code and procedure"
   ]
  },
  {
   "cell_type": "code",
   "execution_count": null,
   "metadata": {},
   "outputs": [],
   "source": [
    "# code"
   ]
  },
  {
   "cell_type": "markdown",
   "metadata": {},
   "source": [
    "ADD CONCISE CONLUSION."
   ]
  }
 ],
 "metadata": {
  "kernelspec": {
   "display_name": "base",
   "language": "python",
   "name": "python3"
  },
  "language_info": {
   "codemirror_mode": {
    "name": "ipython",
    "version": 3
   },
   "file_extension": ".py",
   "mimetype": "text/x-python",
   "name": "python",
   "nbconvert_exporter": "python",
   "pygments_lexer": "ipython3",
   "version": "3.11.7"
  },
  "toc-autonumbering": true,
  "vscode": {
   "interpreter": {
    "hash": "47ef90cdf3004d3f859f1fb202523c65c07ba7c22eefd261b181f4744e2d0403"
   }
  }
 },
 "nbformat": 4,
 "nbformat_minor": 4
}
